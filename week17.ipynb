{
  "nbformat": 4,
  "nbformat_minor": 0,
  "metadata": {
    "colab": {
      "name": "week17",
      "provenance": [],
      "authorship_tag": "ABX9TyMn84EKKtIygNJ3pfbuhq5i",
      "include_colab_link": true
    },
    "kernelspec": {
      "name": "python3",
      "display_name": "Python 3"
    }
  },
  "cells": [
    {
      "cell_type": "markdown",
      "metadata": {
        "id": "view-in-github",
        "colab_type": "text"
      },
      "source": [
        "<a href=\"https://colab.research.google.com/github/LiuHongWang1234/computational-Thinking/blob/master/week17.ipynb\" target=\"_parent\"><img src=\"https://colab.research.google.com/assets/colab-badge.svg\" alt=\"Open In Colab\"/></a>"
      ]
    },
    {
      "cell_type": "code",
      "metadata": {
        "colab": {
          "base_uri": "https://localhost:8080/"
        },
        "id": "XGFxU80Do5Ti",
        "outputId": "8755699a-c83a-43c3-94ba-303f6dbebbe2"
      },
      "source": [
        "number = input(\"give me a number\")\r\n",
        "number = int(number)\r\n",
        "condition = number%2\r\n",
        "if condition==0:\r\n",
        "  print(\"this number is an even number\")\r\n",
        "else:\r\n",
        "   print(\"this number is an odd number\")"
      ],
      "execution_count": 13,
      "outputs": [
        {
          "output_type": "stream",
          "text": [
            "give me a number5\n",
            "this number is an odd number\n"
          ],
          "name": "stdout"
        }
      ]
    },
    {
      "cell_type": "code",
      "metadata": {
        "colab": {
          "base_uri": "https://localhost:8080/"
        },
        "id": "w3awP_fArDBY",
        "outputId": "09793236-b1a1-4716-b5ec-cbb25d5a7a18"
      },
      "source": [
        "year = int(input(\"請輸入年份\"))\r\n",
        "\r\n",
        "if ((year%400)==0):\r\n",
        "   print(year,\"是閏年\")\r\n",
        "elif ((year%100)==0):\r\n",
        "  print(year,\"不是閏年\")\r\n",
        "elif ((year%4)==0):\r\n",
        "  print(year,\"是閏年\")\r\n",
        "else:\r\n",
        "  print(year,\"不是閏年\")"
      ],
      "execution_count": 14,
      "outputs": [
        {
          "output_type": "stream",
          "text": [
            "請輸入年份5\n",
            "5 不是閏年\n"
          ],
          "name": "stdout"
        }
      ]
    }
  ]
}