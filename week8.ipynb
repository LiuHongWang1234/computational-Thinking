{
  "nbformat": 4,
  "nbformat_minor": 0,
  "metadata": {
    "colab": {
      "name": "week8.ipynb",
      "provenance": [],
      "collapsed_sections": [],
      "authorship_tag": "ABX9TyPjaAve9VsIZGSjZ87+isty",
      "include_colab_link": true
    },
    "kernelspec": {
      "name": "python3",
      "display_name": "Python 3"
    }
  },
  "cells": [
    {
      "cell_type": "markdown",
      "metadata": {
        "id": "view-in-github",
        "colab_type": "text"
      },
      "source": [
        "<a href=\"https://colab.research.google.com/github/LiuHongWang1234/computational-Thinking/blob/master/week8.ipynb\" target=\"_parent\"><img src=\"https://colab.research.google.com/assets/colab-badge.svg\" alt=\"Open In Colab\"/></a>"
      ]
    },
    {
      "cell_type": "markdown",
      "metadata": {
        "id": "O2zcyHDXyCdC"
      },
      "source": [
        "習題1"
      ]
    },
    {
      "cell_type": "code",
      "metadata": {
        "id": "8vyg_zdowKQL",
        "outputId": "9428f70f-ac78-405c-bafb-b0123980318e",
        "colab": {
          "base_uri": "https://localhost:8080/"
        }
      },
      "source": [
        "cloth = int(input(\"請輸入上衣數量?\"))\n",
        "trousers = int(input(\"請輸入褲子數量?\"))\n",
        "vest = int(input(\"請輸入背心數量?\"))\n",
        "\n",
        "total = cloth*3000 + trousers*500 + vest*400\n",
        "\n",
        "print(\"訂購服裝的總金額為\",total)\n"
      ],
      "execution_count": 2,
      "outputs": [
        {
          "output_type": "stream",
          "text": [
            "請輸入上衣數量?99\n",
            "請輸入褲子數量?784\n",
            "請輸入背心數量?5220\n",
            "訂購服裝的總金額為 2777000\n"
          ],
          "name": "stdout"
        }
      ]
    },
    {
      "cell_type": "markdown",
      "metadata": {
        "id": "szJNReohyHcX"
      },
      "source": [
        "習題2"
      ]
    },
    {
      "cell_type": "code",
      "metadata": {
        "id": "k8Ad-Mkvxj6T",
        "outputId": "fb3f8b6e-c070-4c01-9064-485be21d73b7",
        "colab": {
          "base_uri": "https://localhost:8080/"
        }
      },
      "source": [
        "cans = int(input(\"請輸入購買飲料罐數?\"))\n",
        "total = (cans//12)*270 + (cans%10)*30\n",
        "print('需花費' , total)\n"
      ],
      "execution_count": 3,
      "outputs": [
        {
          "output_type": "stream",
          "text": [
            "請輸入購買飲料罐數?498\n",
            "需花費 11310\n"
          ],
          "name": "stdout"
        }
      ]
    },
    {
      "cell_type": "markdown",
      "metadata": {
        "id": "awxMzRS-y1rC"
      },
      "source": [
        "習題3"
      ]
    },
    {
      "cell_type": "code",
      "metadata": {
        "id": "1Lmm-i2jx-Xz",
        "outputId": "a970d3a5-82d7-41f6-b31f-234ddb74eb37",
        "colab": {
          "base_uri": "https://localhost:8080/"
        }
      },
      "source": [
        "fir = int(input(\"請輸入第一次期中考成績?\"))\n",
        "sec = int(input(\"請輸入第二次期中考成績?\"))\n",
        "final = int(input(\"請輸入期末考成績?\"))\n",
        " \n",
        "total=fir+sec+final\n",
        "print('總成績' , total)\n",
        "print('平均' , total/3)"
      ],
      "execution_count": 5,
      "outputs": [
        {
          "output_type": "stream",
          "text": [
            "請輸入第一次期中考成績?87\n",
            "請輸入第二次期中考成績?95\n",
            "請輸入期末考成績?68\n",
            "總成績 250\n",
            "平均 83.33333333333333\n"
          ],
          "name": "stdout"
        }
      ]
    }
  ]
}