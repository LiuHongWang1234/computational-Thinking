{
  "nbformat": 4,
  "nbformat_minor": 0,
  "metadata": {
    "colab": {
      "name": "Untitled3.ipynb",
      "provenance": [],
      "authorship_tag": "ABX9TyML/Tgxl6BLWvmlmohqsIGH",
      "include_colab_link": true
    },
    "kernelspec": {
      "name": "python3",
      "display_name": "Python 3"
    }
  },
  "cells": [
    {
      "cell_type": "markdown",
      "metadata": {
        "id": "view-in-github",
        "colab_type": "text"
      },
      "source": [
        "<a href=\"https://colab.research.google.com/github/LiuHongWang1234/computational-Thinking/blob/master/Untitled3.ipynb\" target=\"_parent\"><img src=\"https://colab.research.google.com/assets/colab-badge.svg\" alt=\"Open In Colab\"/></a>"
      ]
    },
    {
      "cell_type": "code",
      "metadata": {
        "colab": {
          "base_uri": "https://localhost:8080/"
        },
        "id": "ryxE5Q8Ol0Lx",
        "outputId": "45129f7f-86f2-4eac-cb3b-499af92cebd6"
      },
      "source": [
        "number=int(input(\"請輸入座號?\"))\n",
        "team=(number//5.5)\n",
        "team_number=(team+1)\n",
        "print(f\"組別為{team_number}\")"
      ],
      "execution_count": 2,
      "outputs": [
        {
          "output_type": "stream",
          "text": [
            "請輸入座號?40\n",
            "組別為8.0\n"
          ],
          "name": "stdout"
        }
      ]
    }
  ]
}