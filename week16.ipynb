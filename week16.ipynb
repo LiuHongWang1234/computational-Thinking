{
  "nbformat": 4,
  "nbformat_minor": 0,
  "metadata": {
    "colab": {
      "name": "week16",
      "provenance": [],
      "authorship_tag": "ABX9TyPMVINMPetsxrZkoVODdtvu",
      "include_colab_link": true
    },
    "kernelspec": {
      "name": "python3",
      "display_name": "Python 3"
    }
  },
  "cells": [
    {
      "cell_type": "markdown",
      "metadata": {
        "id": "view-in-github",
        "colab_type": "text"
      },
      "source": [
        "<a href=\"https://colab.research.google.com/github/LiuHongWang1234/computational-Thinking/blob/master/week16.ipynb\" target=\"_parent\"><img src=\"https://colab.research.google.com/assets/colab-badge.svg\" alt=\"Open In Colab\"/></a>"
      ]
    },
    {
      "cell_type": "code",
      "metadata": {
        "colab": {
          "base_uri": "https://localhost:8080/"
        },
        "id": "qgsxql6vkywu",
        "outputId": "bf302852-a7fd-4979-983a-34da4c4b15b4"
      },
      "source": [
        "num_a = int(input(\"輸入第一個數字?\"))\r\n",
        "num_b = int(input(\"輸入第二個數字?\"))\r\n",
        "\r\n",
        "if num_a < 0:\r\n",
        "   print(\"第一個數字為負數\")\r\n",
        "   if num_b < 0:\r\n",
        "     print(\"第二個數字也是負數\")\r\n",
        "print(\"比較完成\")"
      ],
      "execution_count": 4,
      "outputs": [
        {
          "output_type": "stream",
          "text": [
            "輸入第一個數字?-1\n",
            "輸入第二個數字?-7\n",
            "第一個數字為負數\n",
            "第二個數字也是負數\n",
            "比較完成\n"
          ],
          "name": "stdout"
        }
      ]
    },
    {
      "cell_type": "code",
      "metadata": {
        "colab": {
          "base_uri": "https://localhost:8080/"
        },
        "id": "FkraFmZG1Im5",
        "outputId": "1e7b05ab-d132-43f9-b6dd-268b6750a633"
      },
      "source": [
        "num_a = int(input(\"輸入第一個數字?\"))\r\n",
        "num_b = int(input(\"輸入第二個數字?\"))\r\n",
        "\r\n",
        "if num_a < 0:\r\n",
        "   print(\"第一個數字為負數\")\r\n",
        "if num_b < 0:\r\n",
        "   print(\"第二個數字為負數\")\r\n",
        "print(\"比較完成\")"
      ],
      "execution_count": 5,
      "outputs": [
        {
          "output_type": "stream",
          "text": [
            "輸入第一個數字?5\n",
            "輸入第二個數字?-8\n",
            "第二個數字為負數\n",
            "比較完成\n"
          ],
          "name": "stdout"
        }
      ]
    },
    {
      "cell_type": "code",
      "metadata": {
        "colab": {
          "base_uri": "https://localhost:8080/"
        },
        "id": "oNKKmwZB2NiA",
        "outputId": "1133bc62-50e5-4cd2-d047-e7058decdb54"
      },
      "source": [
        "a = int(input(\"請輸入三角形邊長a長度為?\"))\r\n",
        "b = int(input(\"請輸入三角形邊長b長度為?\"))\r\n",
        "c = int(input(\"請輸入三角形邊長c長度為?\"))\r\n",
        "if (a<b+c)and(b<a+c)and(c<a+b):\r\n",
        "  print(\"可構成三角型\")\r\n",
        "else:\r\n",
        "  print(\"無法構成三角形\")"
      ],
      "execution_count": 10,
      "outputs": [
        {
          "output_type": "stream",
          "text": [
            "請輸入三角形邊長a長度為?5\n",
            "請輸入三角形邊長b長度為?8\n",
            "請輸入三角形邊長c長度為?9\n",
            "可構成三角型\n"
          ],
          "name": "stdout"
        }
      ]
    }
  ]
}