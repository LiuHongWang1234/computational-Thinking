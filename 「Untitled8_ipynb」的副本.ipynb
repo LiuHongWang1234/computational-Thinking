{
  "nbformat": 4,
  "nbformat_minor": 0,
  "metadata": {
    "colab": {
      "name": "「Untitled8.ipynb」的副本",
      "provenance": [],
      "collapsed_sections": [],
      "authorship_tag": "ABX9TyPuu53rqicOnKHYcXahICc8",
      "include_colab_link": true
    },
    "kernelspec": {
      "name": "python3",
      "display_name": "Python 3"
    }
  },
  "cells": [
    {
      "cell_type": "markdown",
      "metadata": {
        "id": "view-in-github",
        "colab_type": "text"
      },
      "source": [
        "<a href=\"https://colab.research.google.com/github/LiuHongWang1234/computational-Thinking/blob/master/%E3%80%8CUntitled8_ipynb%E3%80%8D%E7%9A%84%E5%89%AF%E6%9C%AC.ipynb\" target=\"_parent\"><img src=\"https://colab.research.google.com/assets/colab-badge.svg\" alt=\"Open In Colab\"/></a>"
      ]
    },
    {
      "cell_type": "code",
      "metadata": {
        "colab": {
          "base_uri": "https://localhost:8080/"
        },
        "id": "druG-w81ce1h",
        "outputId": "e877a6f2-dbed-4e99-a2bd-03529666a176"
      },
      "source": [
        "#結束對話\r\n",
        "print(\"今天過得好快\")\r\n",
        "ans = input (\"吃了一整天要不要去散步一下?(好/不好)\")\r\n",
        "if ans== \"好\":\r\n",
        "  a =input (\"那你要去哪呢?(公園/學校)\")\r\n",
        "  if a == \"公園\":\r\n",
        "    print(\"我知道附近有一個很大的公園\")\r\n",
        "    print(\"裡面還有盪鞦韆\")\r\n",
        "    print(\"那我們就散步完再回家吧\")\r\n",
        "  if a== \"學校\":\r\n",
        "    print(\"那我們去操場吧\")\r\n",
        "    print(\"還可以看球隊練球\")\r\n",
        "if ans==\"不好\":\r\n",
        "  print(\"那我們回家吧,明天見\")\r\n"
      ],
      "execution_count": null,
      "outputs": [
        {
          "output_type": "stream",
          "text": [
            "今天過得好快\n",
            "吃了一整天要不要去散步一下?(好/不好)不好\n",
            "那我們回家吧,明天見\n"
          ],
          "name": "stdout"
        }
      ]
    }
  ]
}