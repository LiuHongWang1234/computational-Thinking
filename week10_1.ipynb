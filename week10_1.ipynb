{
  "nbformat": 4,
  "nbformat_minor": 0,
  "metadata": {
    "colab": {
      "name": "week10-1.ipynb",
      "provenance": [],
      "authorship_tag": "ABX9TyNoGp9Nych1JUkba1rrw9iq",
      "include_colab_link": true
    },
    "kernelspec": {
      "name": "python3",
      "display_name": "Python 3"
    }
  },
  "cells": [
    {
      "cell_type": "markdown",
      "metadata": {
        "id": "view-in-github",
        "colab_type": "text"
      },
      "source": [
        "<a href=\"https://colab.research.google.com/github/LiuHongWang1234/computational-Thinking/blob/master/week10_1.ipynb\" target=\"_parent\"><img src=\"https://colab.research.google.com/assets/colab-badge.svg\" alt=\"Open In Colab\"/></a>"
      ]
    },
    {
      "cell_type": "code",
      "metadata": {
        "colab": {
          "base_uri": "https://localhost:8080/"
        },
        "id": "TQK6-xfrQO1h",
        "outputId": "2c5bf4b8-ae9e-4823-ceee-33e9dbc4c649"
      },
      "source": [
        "movie_title = \"money ball\"\n",
        "release_year = \"2011\"\n",
        "movie_time_min = \"133\"\n",
        "director = \"Bennett Miller\"\n",
        "star_1 = \"Brad Pitt\"\n",
        "star_2 = \"Jonah Hill\"\n",
        "star_3 = \"Philip Seymour Hoffman\"\n",
        "star_4 = \"Robin Wright\"\n",
        "star_5 = \"Chris Pratt\"\n",
        "star_6 = \"Stephen Bishop\"\n",
        "print(\"電影名稱\",movie_title)\n",
        "print(\"釋出年分\",release_year)\n",
        "print(\"電影時間\",movie_time_min)\n",
        "print(\"導演\",director)\n",
        "print(\"主角一\",star_1)\n",
        "print(\"主角二\",star_2)\n",
        "print(\"主角三\",star_3)\n",
        "print(\"主角四\",star_4)\n",
        "print(\"主角五\",star_5)\n",
        "print(\"主角六\",star_6)"
      ],
      "execution_count": 1,
      "outputs": [
        {
          "output_type": "stream",
          "text": [
            "電影名稱 money ball\n",
            "釋出年分 2011\n",
            "電影時間 133\n",
            "導演 Bennett Miller\n",
            "主角一 Brad Pitt\n",
            "主角二 Jonah Hill\n",
            "主角三 Philip Seymour Hoffman\n",
            "主角四 Robin Wright\n",
            "主角五 Chris Pratt\n",
            "主角六 Stephen Bishop\n"
          ],
          "name": "stdout"
        }
      ]
    }
  ]
}